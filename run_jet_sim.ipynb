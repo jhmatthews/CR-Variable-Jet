{
 "cells": [
  {
   "cell_type": "code",
   "execution_count": 1,
   "metadata": {},
   "outputs": [],
   "source": [
    "from DELCgen import *\n",
    "import scipy.stats as st\n",
    "import matplotlib.pyplot as plt \n",
    "from constants import *\n",
    "from scipy.interpolate import interp1d\n",
    "import naima\n",
    "import astropy.units as u\n",
    "import subroutines as sub\n",
    "import os\n",
    "import simulation as sim\n",
    "from tqdm import tqdm"
   ]
  },
  {
   "cell_type": "markdown",
   "metadata": {},
   "source": [
    "This piece of code runs a simple simulation where a CR population is injected and evolved with a variable jet. We need to define the maximum rigidity which is related to the jet power\n",
    "$$\n",
    "R_{\\mathrm{max}} = 10^{19}~V\\left(\\frac{Q_j}{10^{44}~\\mathrm{erg~s}^{-1}}\\right)^{1/2}\n",
    "    \\left(\\frac{\\eta}{0.1}\\right)\n",
    "    \\left(\\frac{u}{0.1c}\\right).\n",
    "$$\n",
    "\n",
    "the \"power threshold\" is the inverse expression with $Q_j$ as the subject. We use an input power spectral density (PSD) and jet power probability distribution function (PDF) to generate a time series for the jet power for a given set of PSD and PDF parameters. To do this, we use the method described by Emmanolopoulous et al. and implemented in python by Connolly. The PSD is implemented as a bending power-law model of the form \n",
    "\n",
    "$$\\mathrm{PSD}(\\nu,\\bar{Q},\\nu_c) = A(\\bar{Q}) \\frac{\\nu^{-\\alpha_{\\mathrm{low}}}}\n",
    "               {1+(\\nu/\\nu_c)^{\\alpha_{\\mathrm{high}}-\\alpha_{\\mathrm{low}}}}$$\n",
    "               \n",
    "               \n",
    "We set $\\alpha_{\\mathrm{low}} = 1$ for a pink noise spectrum, $\\alpha_{\\mathrm{high}} = 10$ so as to suppress high frequency variability, and $\\nu_c = 1$Myr, roughly equal to the light travel time, $\\tau_c=L/c$, along a $L=300$kpc jet. The acceleration time relates to $\\tau_c$ by $\\tau_\\mathrm{acc}/\\tau_c \\approx (Rc)/(uL)$, since the highest energy particles reach Larmor radii comparable to $(u/c)R$ (Hillas criterion). The longest CR acceleration time is therefore shorter than the light travel time along the jet for any fast, long and thin jet ($u/c>R/L$). "
   ]
  },
  {
   "cell_type": "code",
   "execution_count": 2,
   "metadata": {},
   "outputs": [],
   "source": [
    "def get_lc(lognorm_params, PSD_params, tbin, Age):\n",
    "    # Simulation params\n",
    "    # let's do everything in units of kyr\n",
    "    # run for 100 Myr (1e5 kyr) in bins of 0.1 Myr\n",
    "    #lognorm_params = (1.5,0,np.exp(1.5))\n",
    "    RedNoiseL,RandomSeed,aliasTbin = 100,12,100\n",
    "    N = Age / tbin\n",
    "\n",
    "    lc = Simulate_DE_Lightcurve(BendingPL, PSD_params,st.lognorm,lognorm_params,\n",
    "                                    RedNoiseL=RedNoiseL,aliasTbin=aliasTbin,randomSeed=RandomSeed,LClength=Age, tbin=tbin)\n",
    "\n",
    "    return (lc)"
   ]
  },
  {
   "cell_type": "markdown",
   "metadata": {},
   "source": [
    "Now we've set up the basic functions. Let's initialise our parameters for the variable jet history and initialise the tau_loss dictionary which stores the loss times for the different species (calculated using CRPropa).  "
   ]
  },
  {
   "cell_type": "code",
   "execution_count": 3,
   "metadata": {},
   "outputs": [],
   "source": [
    "# since we're in Kyr units, set up conversion\n",
    "MYR = 1e3\n",
    "\n",
    "# set up light curve. pl_index of 1 means red noise.\n",
    "pl_index = 1\n",
    "\n",
    "# bend the power law at 1 Myr (1e-3 kyr^-1) and steeply decay it beyond that with index 10. \n",
    "# A,v_bend,a_low,a_high,c = 1, 1e-3, pl_index, 10, 1\n",
    "PSD_params = (1, 1.0 * MYR, pl_index, 10, 1)\n",
    "tbin = 0.1 * MYR   # 100 kyr \n",
    "Age = 100.0 * MYR\n",
    "Length = int(Age / tbin)\n",
    "\n",
    "# time is in kyr, so convert to Myr\n",
    "times = np.arange ( 0, Length*tbin, tbin) \n",
    "\n",
    "elems = [\"H\", \"He\", \"N\", \"Fe\"]\n",
    "tau_loss = dict()\n",
    "energies = np.logspace(6,20.5,num=3000)\n",
    "for i in range(len(elems)):\n",
    "    tau_loss[elems[i]] = sub.Losses(elems[i])\n",
    "    tau_loss[elems[i]].interpol(energies)\n",
    "    \n",
    "lognorm_params = (1.5,0,np.exp(1.5))\n",
    "    \n",
    "# paramaters for lc are lognorm parameters, PSD parameters, tbin and Length (Age is really number of points)\n",
    "lc = get_lc(lognorm_params, PSD_params, tbin, Length)"
   ]
  },
  {
   "cell_type": "markdown",
   "metadata": {},
   "source": [
    "Set up arrays to loop over. flux_scales contains the normalisations of our jet power $(\\bar{Q})$.\n",
    "This is actually the median of the distribution, or the mean in log space.\n",
    "betas is the spectral index of the injected spectrum ($\\beta$)."
   ]
  },
  {
   "cell_type": "code",
   "execution_count": 4,
   "metadata": {},
   "outputs": [
    {
     "name": "stdout",
     "output_type": "stream",
     "text": [
      "[3.16227766e+42 5.27499706e+42 8.79922544e+42 1.46779927e+43\n",
      " 2.44843675e+43 4.08423865e+43 6.81292069e+43 1.13646367e+44\n",
      " 1.89573565e+44 3.16227766e+44]\n"
     ]
    }
   ],
   "source": [
    "# flux_scales contains the normalisations of our jet power \n",
    "# actually the median of the distribution, or the mean in log space.\n",
    "# betas is the spectral index of the injected spectrum \n",
    "flux_scales = np.logspace(43,45,num=10)\n",
    "betas = np.arange(2,3,0.1)\n",
    "betas = [2,2.3,2.7]\n",
    "flux_scales = np.logspace(42.5,44.5,num=10)\n",
    "print (flux_scales)\n",
    "sigmas = np.linspace(0.5,3,num=10)\n",
    "\n",
    "# arrays to store gamma ray and UHECR luminosities\n",
    "lgammas = np.zeros((len(sigmas), len(flux_scales), len(betas)))\n",
    "lcrs = np.zeros((len(sigmas), len(flux_scales), len(betas)))"
   ]
  },
  {
   "cell_type": "markdown",
   "metadata": {},
   "source": [
    "Let's loop over the flux scales and the spectral indices. The method is as follows. For each value of $\\bar{Q}$ and $\\beta$, we evolve a CR distribution for each ionic species numerically using the following equation,\n",
    "\n",
    "$$\n",
    "    \\frac{dn_i(E)}{dt} = S(E/Z_i, f_i, t) - \\frac{n(E)}{\\tau_\\mathrm{esc} (E/Z_i)} - \\frac{n(E)}{\\tau_\\mathrm{loss} (E, Z_i)}.\n",
    "$$\n",
    "\n",
    "The total differential CR spectrum is then just $n(E,t)=\\sum_i n_i(E,t)f_i$. We follow, e.g., Eichmann et al. 2018 in using a power-law for the injection term $S({\\cal R}_i, f_i, t)$ with a sharp cutoff, given by\n",
    "\n",
    "$$\n",
    "    S(E/Z_i, f_i, t) = \n",
    "    f_i \\eta Q_j(t)~\\nu_i\n",
    "    \\left(\\frac{{\\cal R}}{{\\cal R}_0}\\right)^{-\\beta}~f_{\\mathrm{cut}}(R_{\\mathrm{max}}).\n",
    "    % f_\\mathrm{cut}\n",
    "$$\n",
    "\n",
    "where $\\nu_i$ is the normalisation of the distribution and is given by $\\nu_i=1.0/[\\ln({\\cal R}_\\mathrm{max}(t)/{\\cal R}_0]$ for $\\beta=2$ and $\\nu_i=(2-\\beta)/[({\\cal R}_\\mathrm{max}/{\\cal R}_0)^{(2-\\beta)}-1]$ for $\\beta > 2$.  We set ${\\cal R}_\\mathrm{max}$ according to the maximum rigidity condition, ${\\cal R}_0=1\\mathrm{GV}$. "
   ]
  },
  {
   "cell_type": "code",
   "execution_count": 7,
   "metadata": {},
   "outputs": [
    {
     "name": "stderr",
     "output_type": "stream",
     "text": [
      "\n",
      "  0%|          | 0/10 [00:00<?, ?it/s]\u001b[A"
     ]
    },
    {
     "name": "stdout",
     "output_type": "stream",
     "text": [
      "sigma 0.5 BETA 2.0 median lum 3.1623e+42 mean lum 5.8420e+42 UHECR LUM: 2.8694e+37 1.9094e-15\n",
      "sigma 0.5 BETA 2.3 median lum 3.1623e+42 mean lum 5.8420e+42 UHECR LUM: 2.8277e+35 7.5781e-15\n",
      "sigma 0.5 BETA 2.7 median lum 3.1623e+42 mean lum 5.8420e+42 UHECR LUM: 1.1036e+32 8.0638e-15\n",
      "sigma 0.5 BETA 2.0 median lum 5.2750e+42 mean lum 9.7451e+42 UHECR LUM: 5.3455e+37 3.1492e-15\n",
      "sigma 0.5 BETA 2.3 median lum 5.2750e+42 mean lum 9.7451e+42 UHECR LUM: 5.2013e+35 1.2640e-14\n",
      "sigma 0.5 BETA 2.7 median lum 5.2750e+42 mean lum 9.7451e+42 UHECR LUM: 1.9802e+32 1.3451e-14\n",
      "sigma 0.5 BETA 2.0 median lum 8.7992e+42 mean lum 1.6256e+43 UHECR LUM: 9.6029e+37 5.1946e-15\n",
      "sigma 0.5 BETA 2.3 median lum 8.7992e+42 mean lum 1.6256e+43 UHECR LUM: 9.2764e+35 2.1083e-14\n",
      "sigma 0.5 BETA 2.7 median lum 8.7992e+42 mean lum 1.6256e+43 UHECR LUM: 3.4657e+32 2.2438e-14\n",
      "sigma 0.5 BETA 2.0 median lum 1.4678e+43 mean lum 2.7116e+43 UHECR LUM: 1.4220e+38 8.5698e-15\n",
      "sigma 0.5 BETA 2.3 median lum 1.4678e+43 mean lum 2.7116e+43 UHECR LUM: 1.4464e+36 3.5166e-14\n",
      "sigma 0.5 BETA 2.7 median lum 1.4678e+43 mean lum 2.7116e+43 UHECR LUM: 5.5880e+32 3.7429e-14\n",
      "sigma 0.5 BETA 2.0 median lum 2.4484e+43 mean lum 4.5233e+43 UHECR LUM: 2.1706e+38 1.4140e-14\n",
      "sigma 0.5 BETA 2.3 median lum 2.4484e+43 mean lum 4.5233e+43 UHECR LUM: 2.3000e+36 5.8656e-14\n",
      "sigma 0.5 BETA 2.7 median lum 2.4484e+43 mean lum 4.5233e+43 UHECR LUM: 9.0920e+32 6.2435e-14\n",
      "sigma 0.5 BETA 2.0 median lum 4.0842e+43 mean lum 7.5452e+43 UHECR LUM: 3.3410e+38 2.3332e-14\n",
      "sigma 0.5 BETA 2.3 median lum 4.0842e+43 mean lum 7.5452e+43 UHECR LUM: 3.6782e+36 9.7838e-14\n",
      "sigma 0.5 BETA 2.7 median lum 4.0842e+43 mean lum 7.5452e+43 UHECR LUM: 1.4829e+33 1.0415e-13\n",
      "sigma 0.5 BETA 2.0 median lum 6.8129e+43 mean lum 1.2586e+44 UHECR LUM: 5.4108e+38 3.8505e-14\n",
      "sigma 0.5 BETA 2.3 median lum 6.8129e+43 mean lum 1.2586e+44 UHECR LUM: 6.0671e+36 1.6319e-13\n",
      "sigma 0.5 BETA 2.7 median lum 6.8129e+43 mean lum 1.2586e+44 UHECR LUM: 2.4590e+33 1.7373e-13\n",
      "sigma 0.5 BETA 2.0 median lum 1.1365e+44 mean lum 2.0995e+44 UHECR LUM: 8.9271e+38 6.3553e-14\n",
      "sigma 0.5 BETA 2.3 median lum 1.1365e+44 mean lum 2.0995e+44 UHECR LUM: 1.0118e+37 2.7221e-13\n",
      "sigma 0.5 BETA 2.7 median lum 1.1365e+44 mean lum 2.0995e+44 UHECR LUM: 4.1013e+33 2.8980e-13\n",
      "sigma 0.5 BETA 2.0 median lum 1.8957e+44 mean lum 3.5022e+44 UHECR LUM: 1.4736e+39 1.0491e-13\n",
      "sigma 0.5 BETA 2.3 median lum 1.8957e+44 mean lum 3.5022e+44 UHECR LUM: 1.6876e+37 4.5405e-13\n",
      "sigma 0.5 BETA 2.7 median lum 1.8957e+44 mean lum 3.5022e+44 UHECR LUM: 6.8414e+33 4.8341e-13\n",
      "sigma 0.5 BETA 2.0 median lum 3.1623e+44 mean lum 5.8420e+44 UHECR LUM: 2.4327e+39 1.7319e-13\n",
      "sigma 0.5 BETA 2.3 median lum 3.1623e+44 mean lum 5.8420e+44 UHECR LUM: 2.8150e+37 7.5736e-13\n"
     ]
    },
    {
     "name": "stderr",
     "output_type": "stream",
     "text": [
      "\n",
      " 10%|█         | 1/10 [02:34<23:06, 154.03s/it]\u001b[A"
     ]
    },
    {
     "name": "stdout",
     "output_type": "stream",
     "text": [
      "sigma 0.5 BETA 2.7 median lum 3.1623e+44 mean lum 5.8420e+44 UHECR LUM: 1.1412e+34 8.0638e-13\n",
      "sigma 0.8 BETA 2.0 median lum 3.1623e+42 mean lum 9.1111e+42 UHECR LUM: 4.3736e+37 2.9385e-15\n",
      "sigma 0.8 BETA 2.3 median lum 3.1623e+42 mean lum 9.1111e+42 UHECR LUM: 4.3089e+35 1.1817e-14\n",
      "sigma 0.8 BETA 2.7 median lum 3.1623e+42 mean lum 9.1111e+42 UHECR LUM: 1.6621e+32 1.2576e-14\n",
      "sigma 0.8 BETA 2.0 median lum 5.2750e+42 mean lum 1.5198e+43 UHECR LUM: 7.8306e+37 4.8473e-15\n",
      "sigma 0.8 BETA 2.3 median lum 5.2750e+42 mean lum 1.5198e+43 UHECR LUM: 7.6731e+35 1.9711e-14\n",
      "sigma 0.8 BETA 2.7 median lum 5.2750e+42 mean lum 1.5198e+43 UHECR LUM: 2.9111e+32 2.0978e-14\n",
      "sigma 0.8 BETA 2.0 median lum 8.7992e+42 mean lum 2.5352e+43 UHECR LUM: 1.2754e+38 7.9969e-15\n",
      "sigma 0.8 BETA 2.3 median lum 8.7992e+42 mean lum 2.5352e+43 UHECR LUM: 1.2765e+36 3.2878e-14\n",
      "sigma 0.8 BETA 2.7 median lum 8.7992e+42 mean lum 2.5352e+43 UHECR LUM: 4.8788e+32 3.4994e-14\n",
      "sigma 0.8 BETA 2.0 median lum 1.4678e+43 mean lum 4.2290e+43 UHECR LUM: 1.9979e+38 1.3195e-14\n",
      "sigma 0.8 BETA 2.3 median lum 1.4678e+43 mean lum 4.2290e+43 UHECR LUM: 2.0643e+36 5.4840e-14\n",
      "sigma 0.8 BETA 2.7 median lum 1.4678e+43 mean lum 4.2290e+43 UHECR LUM: 8.0197e+32 5.8373e-14\n",
      "sigma 0.8 BETA 2.0 median lum 2.4484e+43 mean lum 7.0544e+43 UHECR LUM: 3.0171e+38 2.1773e-14\n",
      "sigma 0.8 BETA 2.3 median lum 2.4484e+43 mean lum 7.0544e+43 UHECR LUM: 3.2609e+36 9.1472e-14\n",
      "sigma 0.8 BETA 2.7 median lum 2.4484e+43 mean lum 7.0544e+43 UHECR LUM: 1.2995e+33 9.7373e-14\n",
      "sigma 0.8 BETA 2.0 median lum 4.0842e+43 mean lum 1.1767e+44 UHECR LUM: 4.8091e+38 3.5933e-14\n",
      "sigma 0.8 BETA 2.3 median lum 4.0842e+43 mean lum 1.1767e+44 UHECR LUM: 5.3276e+36 1.5258e-13\n",
      "sigma 0.8 BETA 2.7 median lum 4.0842e+43 mean lum 1.1767e+44 UHECR LUM: 2.1439e+33 1.6243e-13\n",
      "sigma 0.8 BETA 2.0 median lum 6.8129e+43 mean lum 1.9629e+44 UHECR LUM: 7.8929e+38 5.9310e-14\n",
      "sigma 0.8 BETA 2.3 median lum 6.8129e+43 mean lum 1.9629e+44 UHECR LUM: 8.8571e+36 2.5450e-13\n",
      "sigma 0.8 BETA 2.7 median lum 6.8129e+43 mean lum 1.9629e+44 UHECR LUM: 3.5700e+33 2.7094e-13\n",
      "sigma 0.8 BETA 2.0 median lum 1.1365e+44 mean lum 3.2743e+44 UHECR LUM: 1.3018e+39 9.7903e-14\n",
      "sigma 0.8 BETA 2.3 median lum 1.1365e+44 mean lum 3.2743e+44 UHECR LUM: 1.4767e+37 4.2451e-13\n",
      "sigma 0.8 BETA 2.7 median lum 1.1365e+44 mean lum 3.2743e+44 UHECR LUM: 5.9536e+33 4.5196e-13\n",
      "sigma 0.8 BETA 2.0 median lum 1.8957e+44 mean lum 5.4619e+44 UHECR LUM: 2.1490e+39 1.6163e-13\n",
      "sigma 0.8 BETA 2.3 median lum 1.8957e+44 mean lum 5.4619e+44 UHECR LUM: 2.4631e+37 7.0809e-13\n",
      "sigma 0.8 BETA 2.7 median lum 1.8957e+44 mean lum 5.4619e+44 UHECR LUM: 9.9311e+33 7.5392e-13\n",
      "sigma 0.8 BETA 2.0 median lum 3.1623e+44 mean lum 9.1111e+44 UHECR LUM: 3.5481e+39 2.6686e-13\n",
      "sigma 0.8 BETA 2.3 median lum 3.1623e+44 mean lum 9.1111e+44 UHECR LUM: 4.1084e+37 1.1811e-12\n"
     ]
    },
    {
     "name": "stderr",
     "output_type": "stream",
     "text": [
      "\n",
      " 20%|██        | 2/10 [05:11<20:40, 155.12s/it]\u001b[A"
     ]
    },
    {
     "name": "stdout",
     "output_type": "stream",
     "text": [
      "sigma 0.8 BETA 2.7 median lum 3.1623e+44 mean lum 9.1111e+44 UHECR LUM: 1.6566e+34 1.2576e-12\n",
      "sigma 1.1 BETA 2.0 median lum 3.1623e+42 mean lum 1.5216e+43 UHECR LUM: 7.4530e+37 4.8309e-15\n",
      "sigma 1.1 BETA 2.3 median lum 3.1623e+42 mean lum 1.5216e+43 UHECR LUM: 7.3904e+35 1.9733e-14\n",
      "sigma 1.1 BETA 2.7 median lum 3.1623e+42 mean lum 1.5216e+43 UHECR LUM: 2.8236e+32 2.1002e-14\n",
      "sigma 1.1 BETA 2.0 median lum 5.2750e+42 mean lum 2.5381e+43 UHECR LUM: 1.2272e+38 7.9702e-15\n",
      "sigma 1.1 BETA 2.3 median lum 5.2750e+42 mean lum 2.5381e+43 UHECR LUM: 1.2386e+36 3.2915e-14\n",
      "sigma 1.1 BETA 2.7 median lum 5.2750e+42 mean lum 2.5381e+43 UHECR LUM: 4.7535e+32 3.5034e-14\n",
      "sigma 1.1 BETA 2.0 median lum 8.7992e+42 mean lum 4.2338e+43 UHECR LUM: 1.8743e+38 1.3151e-14\n",
      "sigma 1.1 BETA 2.3 median lum 8.7992e+42 mean lum 4.2338e+43 UHECR LUM: 1.9721e+36 5.4901e-14\n",
      "sigma 1.1 BETA 2.7 median lum 8.7992e+42 mean lum 4.2338e+43 UHECR LUM: 7.7512e+32 5.8440e-14\n",
      "sigma 1.1 BETA 2.0 median lum 1.4678e+43 mean lum 7.0625e+43 UHECR LUM: 2.9532e+38 2.1702e-14\n",
      "sigma 1.1 BETA 2.3 median lum 1.4678e+43 mean lum 7.0625e+43 UHECR LUM: 3.2010e+36 9.1575e-14\n",
      "sigma 1.1 BETA 2.7 median lum 1.4678e+43 mean lum 7.0625e+43 UHECR LUM: 1.2754e+33 9.7485e-14\n",
      "sigma 1.1 BETA 2.0 median lum 2.4484e+43 mean lum 1.1781e+44 UHECR LUM: 4.6932e+38 3.5818e-14\n",
      "sigma 1.1 BETA 2.3 median lum 2.4484e+43 mean lum 1.1781e+44 UHECR LUM: 5.2217e+36 1.5275e-13\n",
      "sigma 1.1 BETA 2.7 median lum 2.4484e+43 mean lum 1.1781e+44 UHECR LUM: 2.1029e+33 1.6261e-13\n",
      "sigma 1.1 BETA 2.0 median lum 4.0842e+43 mean lum 1.9652e+44 UHECR LUM: 7.6862e+38 5.9122e-14\n",
      "sigma 1.1 BETA 2.3 median lum 4.0842e+43 mean lum 1.9652e+44 UHECR LUM: 8.6708e+36 2.5479e-13\n",
      "sigma 1.1 BETA 2.7 median lum 4.0842e+43 mean lum 1.9652e+44 UHECR LUM: 3.4998e+33 2.7126e-13\n",
      "sigma 1.1 BETA 2.0 median lum 6.8129e+43 mean lum 3.2781e+44 UHECR LUM: 1.2660e+39 9.7598e-14\n",
      "sigma 1.1 BETA 2.3 median lum 6.8129e+43 mean lum 3.2781e+44 UHECR LUM: 1.4445e+37 4.2499e-13\n",
      "sigma 1.1 BETA 2.7 median lum 6.8129e+43 mean lum 3.2781e+44 UHECR LUM: 5.8343e+33 4.5248e-13\n",
      "sigma 1.1 BETA 2.0 median lum 1.1365e+44 mean lum 5.4682e+44 UHECR LUM: 2.0885e+39 1.6113e-13\n",
      "sigma 1.1 BETA 2.3 median lum 1.1365e+44 mean lum 5.4682e+44 UHECR LUM: 2.4084e+37 7.0889e-13\n",
      "sigma 1.1 BETA 2.7 median lum 1.1365e+44 mean lum 5.4682e+44 UHECR LUM: 9.7300e+33 7.5479e-13\n",
      "sigma 1.1 BETA 2.0 median lum 1.8957e+44 mean lum 9.1215e+44 UHECR LUM: 3.4479e+39 2.6605e-13\n",
      "sigma 1.1 BETA 2.3 median lum 1.8957e+44 mean lum 9.1215e+44 UHECR LUM: 4.0170e+37 1.1824e-12\n",
      "sigma 1.1 BETA 2.7 median lum 1.8957e+44 mean lum 9.1215e+44 UHECR LUM: 1.6230e+34 1.2591e-12\n",
      "sigma 1.1 BETA 2.0 median lum 3.1623e+44 mean lum 1.5216e+45 UHECR LUM: 5.6934e+39 4.3933e-13\n",
      "sigma 1.1 BETA 2.3 median lum 3.1623e+44 mean lum 1.5216e+45 UHECR LUM: 6.7004e+37 1.9724e-12\n"
     ]
    },
    {
     "name": "stderr",
     "output_type": "stream",
     "text": [
      "\n",
      " 30%|███       | 3/10 [07:32<17:36, 150.92s/it]\u001b[A"
     ]
    },
    {
     "name": "stdout",
     "output_type": "stream",
     "text": [
      "sigma 1.1 BETA 2.7 median lum 3.1623e+44 mean lum 1.5216e+45 UHECR LUM: 2.7073e+34 2.1002e-12\n",
      "sigma 1.3 BETA 2.0 median lum 3.1623e+42 mean lum 2.7064e+43 UHECR LUM: 1.2056e+38 8.4420e-15\n",
      "sigma 1.3 BETA 2.3 median lum 3.1623e+42 mean lum 2.7064e+43 UHECR LUM: 1.2608e+36 3.5096e-14\n",
      "sigma 1.3 BETA 2.7 median lum 3.1623e+42 mean lum 2.7064e+43 UHECR LUM: 4.9512e+32 3.7357e-14\n",
      "sigma 1.3 BETA 2.0 median lum 5.2750e+42 mean lum 4.5146e+43 UHECR LUM: 1.9419e+38 1.3931e-14\n",
      "sigma 1.3 BETA 2.3 median lum 5.2750e+42 mean lum 4.5146e+43 UHECR LUM: 2.0777e+36 5.8539e-14\n",
      "sigma 1.3 BETA 2.7 median lum 5.2750e+42 mean lum 4.5146e+43 UHECR LUM: 8.2304e+32 6.2315e-14\n",
      "sigma 1.3 BETA 2.0 median lum 8.7992e+42 mean lum 7.5308e+43 UHECR LUM: 3.0831e+38 2.2990e-14\n",
      "sigma 1.3 BETA 2.3 median lum 8.7992e+42 mean lum 7.5308e+43 UHECR LUM: 3.3896e+36 9.7644e-14\n",
      "sigma 1.3 BETA 2.7 median lum 8.7992e+42 mean lum 7.5308e+43 UHECR LUM: 1.3584e+33 1.0395e-13\n",
      "sigma 1.3 BETA 2.0 median lum 1.4678e+43 mean lum 1.2562e+44 UHECR LUM: 4.9458e+38 3.7946e-14\n",
      "sigma 1.3 BETA 2.3 median lum 1.4678e+43 mean lum 1.2562e+44 UHECR LUM: 5.5623e+36 1.6287e-13\n",
      "sigma 1.3 BETA 2.7 median lum 1.4678e+43 mean lum 1.2562e+44 UHECR LUM: 2.2474e+33 1.7340e-13\n",
      "sigma 1.3 BETA 2.0 median lum 2.4484e+43 mean lum 2.0955e+44 UHECR LUM: 8.0743e+38 6.2639e-14\n",
      "sigma 1.3 BETA 2.3 median lum 2.4484e+43 mean lum 2.0955e+44 UHECR LUM: 9.2203e+36 2.7167e-13\n",
      "sigma 1.3 BETA 2.7 median lum 2.4484e+43 mean lum 2.0955e+44 UHECR LUM: 3.7371e+33 2.8924e-13\n",
      "sigma 1.3 BETA 2.0 median lum 4.0842e+43 mean lum 3.4955e+44 UHECR LUM: 1.3295e+39 1.0341e-13\n",
      "sigma 1.3 BETA 2.3 median lum 4.0842e+43 mean lum 3.4955e+44 UHECR LUM: 1.5358e+37 4.5315e-13\n",
      "sigma 1.3 BETA 2.7 median lum 4.0842e+43 mean lum 3.4955e+44 UHECR LUM: 6.2295e+33 4.8249e-13\n",
      "sigma 1.3 BETA 2.0 median lum 6.8129e+43 mean lum 5.8308e+44 UHECR LUM: 2.1918e+39 1.7074e-13\n",
      "sigma 1.3 BETA 2.3 median lum 6.8129e+43 mean lum 5.8308e+44 UHECR LUM: 2.5596e+37 7.5587e-13\n",
      "sigma 1.3 BETA 2.7 median lum 6.8129e+43 mean lum 5.8308e+44 UHECR LUM: 1.0387e+34 8.0483e-13\n",
      "sigma 1.3 BETA 2.0 median lum 1.1365e+44 mean lum 9.7263e+44 UHECR LUM: 3.6183e+39 2.8193e-13\n",
      "sigma 1.3 BETA 2.3 median lum 1.1365e+44 mean lum 9.7263e+44 UHECR LUM: 4.2689e+37 1.2608e-12\n",
      "sigma 1.3 BETA 2.7 median lum 1.1365e+44 mean lum 9.7263e+44 UHECR LUM: 1.7325e+34 1.3425e-12\n",
      "sigma 1.3 BETA 2.0 median lum 1.8957e+44 mean lum 1.6225e+45 UHECR LUM: 5.9748e+39 4.6559e-13\n",
      "sigma 1.3 BETA 2.3 median lum 1.8957e+44 mean lum 1.6225e+45 UHECR LUM: 7.1204e+37 2.1031e-12\n",
      "sigma 1.3 BETA 2.7 median lum 1.8957e+44 mean lum 1.6225e+45 UHECR LUM: 2.8900e+34 2.2395e-12\n",
      "sigma 1.3 BETA 2.0 median lum 3.1623e+44 mean lum 2.7064e+45 UHECR LUM: 9.8675e+39 7.6895e-13\n",
      "sigma 1.3 BETA 2.3 median lum 3.1623e+44 mean lum 2.7064e+45 UHECR LUM: 1.1877e+38 3.5081e-12\n"
     ]
    },
    {
     "name": "stderr",
     "output_type": "stream",
     "text": [
      "\n",
      " 40%|████      | 4/10 [09:41<14:25, 144.19s/it]\u001b[A"
     ]
    },
    {
     "name": "stdout",
     "output_type": "stream",
     "text": [
      "sigma 1.3 BETA 2.7 median lum 3.1623e+44 mean lum 2.7064e+45 UHECR LUM: 4.8208e+34 3.7357e-12\n",
      "sigma 1.6 BETA 2.0 median lum 3.1623e+42 mean lum 5.0978e+43 UHECR LUM: 2.1231e+38 1.5599e-14\n",
      "sigma 1.6 BETA 2.3 median lum 3.1623e+42 mean lum 5.0978e+43 UHECR LUM: 2.3060e+36 6.6099e-14\n",
      "sigma 1.6 BETA 2.7 median lum 3.1623e+42 mean lum 5.0978e+43 UHECR LUM: 9.1835e+32 7.0366e-14\n",
      "sigma 1.6 BETA 2.0 median lum 5.2750e+42 mean lum 8.5036e+43 UHECR LUM: 3.3926e+38 2.5746e-14\n",
      "sigma 1.6 BETA 2.3 median lum 5.2750e+42 mean lum 8.5036e+43 UHECR LUM: 3.7774e+36 1.1025e-13\n",
      "sigma 1.6 BETA 2.7 median lum 5.2750e+42 mean lum 8.5036e+43 UHECR LUM: 1.5191e+33 1.1738e-13\n",
      "sigma 1.6 BETA 2.0 median lum 8.7992e+42 mean lum 1.4185e+44 UHECR LUM: 5.4738e+38 4.2498e-14\n",
      "sigma 1.6 BETA 2.3 median lum 8.7992e+42 mean lum 1.4185e+44 UHECR LUM: 6.2209e+36 1.8390e-13\n",
      "sigma 1.6 BETA 2.7 median lum 8.7992e+42 mean lum 1.4185e+44 UHECR LUM: 2.5182e+33 1.9580e-13\n",
      "sigma 1.6 BETA 2.0 median lum 1.4678e+43 mean lum 2.3662e+44 UHECR LUM: 9.0099e+38 7.0158e-14\n",
      "sigma 1.6 BETA 2.3 median lum 1.4678e+43 mean lum 2.3662e+44 UHECR LUM: 1.0362e+37 3.0676e-13\n",
      "sigma 1.6 BETA 2.7 median lum 1.4678e+43 mean lum 2.3662e+44 UHECR LUM: 4.1984e+33 3.2661e-13\n",
      "sigma 1.6 BETA 2.0 median lum 2.4484e+43 mean lum 3.9470e+44 UHECR LUM: 1.4829e+39 1.1583e-13\n",
      "sigma 1.6 BETA 2.3 median lum 2.4484e+43 mean lum 3.9470e+44 UHECR LUM: 1.7254e+37 5.1168e-13\n",
      "sigma 1.6 BETA 2.7 median lum 2.4484e+43 mean lum 3.9470e+44 UHECR LUM: 6.9976e+33 5.4481e-13\n",
      "sigma 1.6 BETA 2.0 median lum 4.0842e+43 mean lum 6.5840e+44 UHECR LUM: 2.4440e+39 1.9127e-13\n",
      "sigma 1.6 BETA 2.3 median lum 4.0842e+43 mean lum 6.5840e+44 UHECR LUM: 2.8751e+37 8.5349e-13\n",
      "sigma 1.6 BETA 2.7 median lum 4.0842e+43 mean lum 6.5840e+44 UHECR LUM: 1.1667e+34 9.0881e-13\n",
      "sigma 1.6 BETA 2.0 median lum 6.8129e+43 mean lum 1.0983e+45 UHECR LUM: 4.0336e+39 3.1585e-13\n",
      "sigma 1.6 BETA 2.3 median lum 6.8129e+43 mean lum 1.0983e+45 UHECR LUM: 4.7943e+37 1.4237e-12\n",
      "sigma 1.6 BETA 2.7 median lum 6.8129e+43 mean lum 1.0983e+45 UHECR LUM: 1.9458e+34 1.5160e-12\n",
      "sigma 1.6 BETA 2.0 median lum 1.1365e+44 mean lum 1.8320e+45 UHECR LUM: 6.6616e+39 5.2164e-13\n",
      "sigma 1.6 BETA 2.3 median lum 1.1365e+44 mean lum 1.8320e+45 UHECR LUM: 7.9971e+37 2.3747e-12\n",
      "sigma 1.6 BETA 2.7 median lum 1.1365e+44 mean lum 1.8320e+45 UHECR LUM: 3.2459e+34 2.5288e-12\n",
      "sigma 1.6 BETA 2.0 median lum 1.8957e+44 mean lum 3.0560e+45 UHECR LUM: 1.1002e+40 8.6160e-13\n",
      "sigma 1.6 BETA 2.3 median lum 1.8957e+44 mean lum 3.0560e+45 UHECR LUM: 1.3339e+38 3.9611e-12\n",
      "sigma 1.6 BETA 2.7 median lum 1.8957e+44 mean lum 3.0560e+45 UHECR LUM: 5.4143e+34 4.2183e-12\n",
      "sigma 1.6 BETA 2.0 median lum 3.1623e+44 mean lum 5.0978e+45 UHECR LUM: 1.8173e+40 1.4232e-12\n",
      "sigma 1.6 BETA 2.3 median lum 3.1623e+44 mean lum 5.0978e+45 UHECR LUM: 2.2250e+38 6.6074e-12\n"
     ]
    },
    {
     "name": "stderr",
     "output_type": "stream",
     "text": [
      "\n",
      " 50%|█████     | 5/10 [11:16<10:47, 129.59s/it]\u001b[A"
     ]
    },
    {
     "name": "stdout",
     "output_type": "stream",
     "text": [
      "sigma 1.6 BETA 2.7 median lum 3.1623e+44 mean lum 5.0978e+45 UHECR LUM: 9.0316e+34 7.0366e-12\n",
      "sigma 1.9 BETA 2.0 median lum 3.1623e+42 mean lum 1.0110e+44 UHECR LUM: 3.9704e+38 3.0316e-14\n",
      "sigma 1.9 BETA 2.3 median lum 3.1623e+42 mean lum 1.0110e+44 UHECR LUM: 4.5009e+36 1.3108e-13\n",
      "sigma 1.9 BETA 2.7 median lum 3.1623e+42 mean lum 1.0110e+44 UHECR LUM: 1.8207e+33 1.3956e-13\n",
      "sigma 1.9 BETA 2.0 median lum 5.2750e+42 mean lum 1.6865e+44 UHECR LUM: 6.4858e+38 5.0046e-14\n",
      "sigma 1.9 BETA 2.3 median lum 5.2750e+42 mean lum 1.6865e+44 UHECR LUM: 7.4660e+36 2.1864e-13\n",
      "sigma 1.9 BETA 2.7 median lum 5.2750e+42 mean lum 1.6865e+44 UHECR LUM: 3.0298e+33 2.3279e-13\n",
      "sigma 1.9 BETA 2.0 median lum 8.7992e+42 mean lum 2.8133e+44 UHECR LUM: 1.0647e+39 8.2627e-14\n",
      "sigma 1.9 BETA 2.3 median lum 8.7992e+42 mean lum 2.8133e+44 UHECR LUM: 1.2416e+37 3.6470e-13\n",
      "sigma 1.9 BETA 2.7 median lum 8.7992e+42 mean lum 2.8133e+44 UHECR LUM: 5.0473e+33 3.8832e-13\n",
      "sigma 1.9 BETA 2.0 median lum 1.4678e+43 mean lum 4.6928e+44 UHECR LUM: 1.7547e+39 1.3643e-13\n",
      "sigma 1.9 BETA 2.3 median lum 1.4678e+43 mean lum 4.6928e+44 UHECR LUM: 2.0690e+37 6.0834e-13\n",
      "sigma 1.9 BETA 2.7 median lum 1.4678e+43 mean lum 4.6928e+44 UHECR LUM: 8.4158e+33 6.4776e-13\n",
      "sigma 1.9 BETA 2.0 median lum 2.4484e+43 mean lum 7.8281e+44 UHECR LUM: 2.8941e+39 2.2530e-13\n",
      "sigma 1.9 BETA 2.3 median lum 2.4484e+43 mean lum 7.8281e+44 UHECR LUM: 3.4490e+37 1.0147e-12\n",
      "sigma 1.9 BETA 2.7 median lum 2.4484e+43 mean lum 7.8281e+44 UHECR LUM: 1.4034e+34 1.0805e-12\n",
      "sigma 1.9 BETA 2.0 median lum 4.0842e+43 mean lum 1.3058e+45 UHECR LUM: 4.7785e+39 3.7209e-13\n",
      "sigma 1.9 BETA 2.3 median lum 4.0842e+43 mean lum 1.3058e+45 UHECR LUM: 5.7525e+37 1.6926e-12\n",
      "sigma 1.9 BETA 2.7 median lum 4.0842e+43 mean lum 1.3058e+45 UHECR LUM: 2.3410e+34 1.8024e-12\n",
      "sigma 1.9 BETA 2.0 median lum 6.8129e+43 mean lum 2.1782e+45 UHECR LUM: 7.8898e+39 6.1458e-13\n",
      "sigma 1.9 BETA 2.3 median lum 6.8129e+43 mean lum 2.1782e+45 UHECR LUM: 9.5936e+37 2.8234e-12\n",
      "sigma 1.9 BETA 2.7 median lum 6.8129e+43 mean lum 2.1782e+45 UHECR LUM: 3.9046e+34 3.0066e-12\n",
      "sigma 1.9 BETA 2.0 median lum 1.1365e+44 mean lum 3.6335e+45 UHECR LUM: 1.3032e+40 1.0152e-12\n",
      "sigma 1.9 BETA 2.3 median lum 1.1365e+44 mean lum 3.6335e+45 UHECR LUM: 1.6003e+38 4.7095e-12\n",
      "sigma 1.9 BETA 2.7 median lum 1.1365e+44 mean lum 3.6335e+45 UHECR LUM: 6.5132e+34 5.0154e-12\n",
      "sigma 1.9 BETA 2.0 median lum 1.8957e+44 mean lum 6.0610e+45 UHECR LUM: 2.1529e+40 1.6771e-12\n",
      "sigma 1.9 BETA 2.3 median lum 1.8957e+44 mean lum 6.0610e+45 UHECR LUM: 2.6693e+38 7.8557e-12\n",
      "sigma 1.9 BETA 2.7 median lum 1.8957e+44 mean lum 6.0610e+45 UHECR LUM: 1.0865e+35 8.3661e-12\n",
      "sigma 1.9 BETA 2.0 median lum 3.1623e+44 mean lum 1.0110e+46 UHECR LUM: 3.5569e+40 2.7708e-12\n",
      "sigma 1.9 BETA 2.3 median lum 3.1623e+44 mean lum 1.0110e+46 UHECR LUM: 4.4525e+38 1.3104e-11\n"
     ]
    },
    {
     "name": "stderr",
     "output_type": "stream",
     "text": [
      "\n",
      " 60%|██████    | 6/10 [13:04<08:12, 123.01s/it]\u001b[A"
     ]
    },
    {
     "name": "stdout",
     "output_type": "stream",
     "text": [
      "sigma 1.9 BETA 2.7 median lum 3.1623e+44 mean lum 1.0110e+46 UHECR LUM: 1.8123e+35 1.3956e-11\n",
      "sigma 2.2 BETA 2.0 median lum 3.1623e+42 mean lum 2.0999e+44 UHECR LUM: 7.9190e+38 6.1654e-14\n",
      "sigma 2.2 BETA 2.3 median lum 3.1623e+42 mean lum 2.0999e+44 UHECR LUM: 9.1613e+36 2.7223e-13\n",
      "sigma 2.2 BETA 2.7 median lum 3.1623e+42 mean lum 2.0999e+44 UHECR LUM: 3.7063e+33 2.8986e-13\n",
      "sigma 2.2 BETA 2.0 median lum 5.2750e+42 mean lum 3.5029e+44 UHECR LUM: 1.3008e+39 1.0180e-13\n",
      "sigma 2.2 BETA 2.3 median lum 5.2750e+42 mean lum 3.5029e+44 UHECR LUM: 1.5240e+37 4.5408e-13\n",
      "sigma 2.2 BETA 2.7 median lum 5.2750e+42 mean lum 3.5029e+44 UHECR LUM: 6.1748e+33 4.8351e-13\n",
      "sigma 2.2 BETA 2.0 median lum 8.7992e+42 mean lum 5.8432e+44 UHECR LUM: 2.1431e+39 1.6811e-13\n",
      "sigma 2.2 BETA 2.3 median lum 8.7992e+42 mean lum 5.8432e+44 UHECR LUM: 2.5390e+37 7.5743e-13\n",
      "sigma 2.2 BETA 2.7 median lum 8.7992e+42 mean lum 5.8432e+44 UHECR LUM: 1.0295e+34 8.0654e-13\n",
      "sigma 2.2 BETA 2.0 median lum 1.4678e+43 mean lum 9.7470e+44 UHECR LUM: 3.5370e+39 2.7764e-13\n",
      "sigma 2.2 BETA 2.3 median lum 1.4678e+43 mean lum 9.7470e+44 UHECR LUM: 4.2337e+37 1.2634e-12\n",
      "sigma 2.2 BETA 2.7 median lum 1.4678e+43 mean lum 9.7470e+44 UHECR LUM: 1.7170e+34 1.3454e-12\n",
      "sigma 2.2 BETA 2.0 median lum 2.4484e+43 mean lum 1.6259e+45 UHECR LUM: 5.8414e+39 4.5858e-13\n",
      "sigma 2.2 BETA 2.3 median lum 2.4484e+43 mean lum 1.6259e+45 UHECR LUM: 7.0617e+37 2.1074e-12\n",
      "sigma 2.2 BETA 2.7 median lum 2.4484e+43 mean lum 1.6259e+45 UHECR LUM: 2.8642e+34 2.2442e-12\n",
      "sigma 2.2 BETA 2.0 median lum 4.0842e+43 mean lum 2.7122e+45 UHECR LUM: 9.6451e+39 7.5751e-13\n",
      "sigma 2.2 BETA 2.3 median lum 4.0842e+43 mean lum 2.7122e+45 UHECR LUM: 1.1777e+38 3.5153e-12\n",
      "sigma 2.2 BETA 2.7 median lum 4.0842e+43 mean lum 2.7122e+45 UHECR LUM: 4.7772e+34 3.7436e-12\n",
      "sigma 2.2 BETA 2.0 median lum 6.8129e+43 mean lum 4.5241e+45 UHECR LUM: 1.5932e+40 1.2514e-12\n",
      "sigma 2.2 BETA 2.3 median lum 6.8129e+43 mean lum 4.5241e+45 UHECR LUM: 1.9643e+38 5.8637e-12\n",
      "sigma 2.2 BETA 2.7 median lum 6.8129e+43 mean lum 4.5241e+45 UHECR LUM: 7.9688e+34 6.2448e-12\n",
      "sigma 2.2 BETA 2.0 median lum 1.1365e+44 mean lum 7.5467e+45 UHECR LUM: 2.6322e+40 2.0675e-12\n",
      "sigma 2.2 BETA 2.3 median lum 1.1365e+44 mean lum 7.5467e+45 UHECR LUM: 3.2766e+38 9.7811e-12\n",
      "sigma 2.2 BETA 2.7 median lum 1.1365e+44 mean lum 7.5467e+45 UHECR LUM: 1.3293e+35 1.0417e-11\n",
      "sigma 2.2 BETA 2.0 median lum 1.8957e+44 mean lum 1.2589e+46 UHECR LUM: 4.3493e+40 3.4162e-12\n",
      "sigma 2.2 BETA 2.3 median lum 1.8957e+44 mean lum 1.2589e+46 UHECR LUM: 5.4656e+38 1.6315e-11\n",
      "sigma 2.2 BETA 2.7 median lum 1.8957e+44 mean lum 1.2589e+46 UHECR LUM: 2.2173e+35 1.7376e-11\n",
      "sigma 2.2 BETA 2.0 median lum 3.1623e+44 mean lum 2.0999e+46 UHECR LUM: 7.1869e+40 5.6452e-12\n",
      "sigma 2.2 BETA 2.3 median lum 3.1623e+44 mean lum 2.0999e+46 UHECR LUM: 9.1169e+38 2.7215e-11\n"
     ]
    },
    {
     "name": "stderr",
     "output_type": "stream",
     "text": [
      "\n",
      " 70%|███████   | 7/10 [14:33<05:38, 112.96s/it]\u001b[A"
     ]
    },
    {
     "name": "stdout",
     "output_type": "stream",
     "text": [
      "sigma 2.2 BETA 2.7 median lum 3.1623e+44 mean lum 2.0999e+46 UHECR LUM: 3.6988e+35 2.8986e-11\n",
      "sigma 2.4 BETA 2.0 median lum 3.1623e+42 mean lum 4.5448e+44 UHECR LUM: 1.6632e+39 1.3059e-13\n",
      "sigma 2.4 BETA 2.3 median lum 3.1623e+42 mean lum 4.5448e+44 UHECR LUM: 1.9532e+37 5.8912e-13\n",
      "sigma 2.4 BETA 2.7 median lum 3.1623e+42 mean lum 4.5448e+44 UHECR LUM: 7.8711e+33 6.2732e-13\n",
      "sigma 2.4 BETA 2.0 median lum 5.2750e+42 mean lum 7.5812e+44 UHECR LUM: 2.7435e+39 2.1568e-13\n",
      "sigma 2.4 BETA 2.3 median lum 5.2750e+42 mean lum 7.5812e+44 UHECR LUM: 3.2560e+37 9.8268e-13\n",
      "sigma 2.4 BETA 2.7 median lum 5.2750e+42 mean lum 7.5812e+44 UHECR LUM: 1.3126e+34 1.0464e-12\n",
      "sigma 2.4 BETA 2.0 median lum 8.7992e+42 mean lum 1.2646e+45 UHECR LUM: 4.5287e+39 3.5625e-13\n",
      "sigma 2.4 BETA 2.3 median lum 8.7992e+42 mean lum 1.2646e+45 UHECR LUM: 5.4296e+37 1.6392e-12\n",
      "sigma 2.4 BETA 2.7 median lum 8.7992e+42 mean lum 1.2646e+45 UHECR LUM: 2.1894e+34 1.7456e-12\n",
      "sigma 2.4 BETA 2.0 median lum 1.4678e+43 mean lum 2.1095e+45 UHECR LUM: 7.4772e+39 5.8847e-13\n",
      "sigma 2.4 BETA 2.3 median lum 1.4678e+43 mean lum 2.1095e+45 UHECR LUM: 9.0547e+37 2.7342e-12\n",
      "sigma 2.4 BETA 2.7 median lum 1.4678e+43 mean lum 2.1095e+45 UHECR LUM: 3.6517e+34 2.9118e-12\n",
      "sigma 2.4 BETA 2.0 median lum 2.4484e+43 mean lum 3.5189e+45 UHECR LUM: 1.2351e+40 9.7217e-13\n",
      "sigma 2.4 BETA 2.3 median lum 2.4484e+43 mean lum 3.5189e+45 UHECR LUM: 1.5103e+38 4.5608e-12\n",
      "sigma 2.4 BETA 2.7 median lum 2.4484e+43 mean lum 3.5189e+45 UHECR LUM: 6.0913e+34 4.8571e-12\n",
      "sigma 2.4 BETA 2.0 median lum 4.0842e+43 mean lum 5.8698e+45 UHECR LUM: 2.0405e+40 1.6062e-12\n",
      "sigma 2.4 BETA 2.3 median lum 4.0842e+43 mean lum 5.8698e+45 UHECR LUM: 2.5192e+38 7.6076e-12\n",
      "sigma 2.4 BETA 2.7 median lum 4.0842e+43 mean lum 5.8698e+45 UHECR LUM: 1.0161e+35 8.1022e-12\n",
      "sigma 2.4 BETA 2.0 median lum 6.8129e+43 mean lum 9.7914e+45 UHECR LUM: 3.3714e+40 2.6540e-12\n",
      "sigma 2.4 BETA 2.3 median lum 6.8129e+43 mean lum 9.7914e+45 UHECR LUM: 4.2020e+38 1.2690e-11\n",
      "sigma 2.4 BETA 2.7 median lum 6.8129e+43 mean lum 9.7914e+45 UHECR LUM: 1.6949e+35 1.3515e-11\n",
      "sigma 2.4 BETA 2.0 median lum 1.1365e+44 mean lum 1.6333e+46 UHECR LUM: 5.5711e+40 4.3857e-12\n",
      "sigma 2.4 BETA 2.3 median lum 1.1365e+44 mean lum 1.6333e+46 UHECR LUM: 7.0092e+38 2.1168e-11\n",
      "sigma 2.4 BETA 2.7 median lum 1.1365e+44 mean lum 1.6333e+46 UHECR LUM: 2.8273e+35 2.2545e-11\n",
      "sigma 2.4 BETA 2.0 median lum 1.8957e+44 mean lum 2.7245e+46 UHECR LUM: 9.2069e+40 7.2479e-12\n",
      "sigma 2.4 BETA 2.3 median lum 1.8957e+44 mean lum 2.7245e+46 UHECR LUM: 1.1692e+39 3.5309e-11\n",
      "sigma 2.4 BETA 2.7 median lum 1.8957e+44 mean lum 2.7245e+46 UHECR LUM: 4.7162e+35 3.7607e-11\n",
      "sigma 2.4 BETA 2.0 median lum 3.1623e+44 mean lum 4.5448e+46 UHECR LUM: 1.5217e+41 1.1979e-11\n",
      "sigma 2.4 BETA 2.3 median lum 3.1623e+44 mean lum 4.5448e+46 UHECR LUM: 1.9503e+39 5.8898e-11\n"
     ]
    },
    {
     "name": "stderr",
     "output_type": "stream",
     "text": [
      "\n",
      " 80%|████████  | 8/10 [15:54<03:26, 103.10s/it]\u001b[A"
     ]
    },
    {
     "name": "stdout",
     "output_type": "stream",
     "text": [
      "sigma 2.4 BETA 2.7 median lum 3.1623e+44 mean lum 4.5448e+46 UHECR LUM: 7.8670e+35 6.2732e-11\n",
      "sigma 2.7 BETA 2.0 median lum 3.1623e+42 mean lum 1.0203e+45 UHECR LUM: 3.6367e+39 2.8686e-13\n",
      "sigma 2.7 BETA 2.3 median lum 3.1623e+42 mean lum 1.0203e+45 UHECR LUM: 4.3269e+37 1.3224e-12\n",
      "sigma 2.7 BETA 2.7 median lum 3.1623e+42 mean lum 1.0203e+45 UHECR LUM: 1.7342e+34 1.4083e-12\n",
      "sigma 2.7 BETA 2.0 median lum 5.2750e+42 mean lum 1.7019e+45 UHECR LUM: 6.0066e+39 4.7387e-13\n",
      "sigma 2.7 BETA 2.3 median lum 5.2750e+42 mean lum 1.7019e+45 UHECR LUM: 7.2171e+37 2.2059e-12\n",
      "sigma 2.7 BETA 2.7 median lum 5.2750e+42 mean lum 1.7019e+45 UHECR LUM: 2.8929e+34 2.3491e-12\n",
      "sigma 2.7 BETA 2.0 median lum 8.7992e+42 mean lum 2.8389e+45 UHECR LUM: 9.9200e+39 7.8285e-13\n",
      "sigma 2.7 BETA 2.3 median lum 8.7992e+42 mean lum 2.8389e+45 UHECR LUM: 1.2037e+38 3.6795e-12\n",
      "sigma 2.7 BETA 2.7 median lum 8.7992e+42 mean lum 2.8389e+45 UHECR LUM: 4.8253e+34 3.9186e-12\n",
      "sigma 2.7 BETA 2.0 median lum 1.4678e+43 mean lum 4.7356e+45 UHECR LUM: 1.6386e+40 1.2934e-12\n",
      "sigma 2.7 BETA 2.3 median lum 1.4678e+43 mean lum 4.7356e+45 UHECR LUM: 2.0075e+38 6.1376e-12\n",
      "sigma 2.7 BETA 2.7 median lum 1.4678e+43 mean lum 4.7356e+45 UHECR LUM: 8.0487e+34 6.5366e-12\n",
      "sigma 2.7 BETA 2.0 median lum 2.4484e+43 mean lum 7.8994e+45 UHECR LUM: 2.7077e+40 2.1372e-12\n",
      "sigma 2.7 BETA 2.3 median lum 2.4484e+43 mean lum 7.8994e+45 UHECR LUM: 3.3487e+38 1.0238e-11\n",
      "sigma 2.7 BETA 2.7 median lum 2.4484e+43 mean lum 7.8994e+45 UHECR LUM: 1.3426e+35 1.0904e-11\n",
      "sigma 2.7 BETA 2.0 median lum 4.0842e+43 mean lum 1.3177e+46 UHECR LUM: 4.4742e+40 3.5318e-12\n",
      "sigma 2.7 BETA 2.3 median lum 4.0842e+43 mean lum 1.3177e+46 UHECR LUM: 5.5858e+38 1.7077e-11\n",
      "sigma 2.7 BETA 2.7 median lum 4.0842e+43 mean lum 1.3177e+46 UHECR LUM: 2.2396e+35 1.8189e-11\n",
      "sigma 2.7 BETA 2.0 median lum 6.8129e+43 mean lum 2.1981e+46 UHECR LUM: 7.3942e+40 5.8368e-12\n",
      "sigma 2.7 BETA 2.3 median lum 6.8129e+43 mean lum 2.1981e+46 UHECR LUM: 9.3174e+38 2.8486e-11\n",
      "sigma 2.7 BETA 2.7 median lum 6.8129e+43 mean lum 2.1981e+46 UHECR LUM: 3.7359e+35 3.0340e-11\n",
      "sigma 2.7 BETA 2.0 median lum 1.1365e+44 mean lum 3.6666e+46 UHECR LUM: 1.2221e+41 9.6470e-12\n",
      "sigma 2.7 BETA 2.3 median lum 1.1365e+44 mean lum 3.6666e+46 UHECR LUM: 1.5542e+39 4.7517e-11\n",
      "sigma 2.7 BETA 2.7 median lum 1.1365e+44 mean lum 3.6666e+46 UHECR LUM: 6.2318e+35 5.0611e-11\n",
      "sigma 2.7 BETA 2.0 median lum 1.8957e+44 mean lum 6.1163e+46 UHECR LUM: 2.0200e+41 1.5946e-11\n",
      "sigma 2.7 BETA 2.3 median lum 1.8957e+44 mean lum 6.1163e+46 UHECR LUM: 2.5925e+39 7.9262e-11\n",
      "sigma 2.7 BETA 2.7 median lum 1.8957e+44 mean lum 6.1163e+46 UHECR LUM: 1.0395e+36 8.4424e-11\n",
      "sigma 2.7 BETA 2.0 median lum 3.1623e+44 mean lum 1.0203e+47 UHECR LUM: 3.3393e+41 2.6360e-11\n",
      "sigma 2.7 BETA 2.3 median lum 3.1623e+44 mean lum 1.0203e+47 UHECR LUM: 4.3245e+39 1.3221e-10\n"
     ]
    },
    {
     "name": "stderr",
     "output_type": "stream",
     "text": [
      "\n",
      " 90%|█████████ | 9/10 [17:25<01:39, 99.72s/it] \u001b[A"
     ]
    },
    {
     "name": "stdout",
     "output_type": "stream",
     "text": [
      "sigma 2.7 BETA 2.7 median lum 3.1623e+44 mean lum 1.0203e+47 UHECR LUM: 1.7340e+36 1.4083e-10\n",
      "sigma 3.0 BETA 2.0 median lum 3.1623e+42 mean lum 2.3657e+45 UHECR LUM: 8.8654e+39 6.5082e-13\n",
      "sigma 3.0 BETA 2.3 median lum 3.1623e+42 mean lum 2.3657e+45 UHECR LUM: 1.0517e+38 3.0661e-12\n",
      "sigma 3.0 BETA 2.7 median lum 3.1623e+42 mean lum 2.3657e+45 UHECR LUM: 4.1410e+34 3.2654e-12\n",
      "sigma 3.0 BETA 2.0 median lum 5.2750e+42 mean lum 3.9462e+45 UHECR LUM: 1.4646e+40 1.0753e-12\n",
      "sigma 3.0 BETA 2.3 median lum 5.2750e+42 mean lum 3.9462e+45 UHECR LUM: 1.7542e+38 5.1145e-12\n",
      "sigma 3.0 BETA 2.7 median lum 5.2750e+42 mean lum 3.9462e+45 UHECR LUM: 6.9074e+34 5.4470e-12\n",
      "sigma 3.0 BETA 2.0 median lum 8.7992e+42 mean lum 6.5827e+45 UHECR LUM: 2.4200e+40 1.7768e-12\n",
      "sigma 3.0 BETA 2.3 median lum 8.7992e+42 mean lum 6.5827e+45 UHECR LUM: 2.9260e+38 8.5313e-12\n",
      "sigma 3.0 BETA 2.7 median lum 8.7992e+42 mean lum 6.5827e+45 UHECR LUM: 1.1522e+35 9.0862e-12\n",
      "sigma 3.0 BETA 2.0 median lum 1.4678e+43 mean lum 1.0981e+46 UHECR LUM: 3.9989e+40 2.9363e-12\n",
      "sigma 3.0 BETA 2.3 median lum 1.4678e+43 mean lum 1.0981e+46 UHECR LUM: 4.8806e+38 1.4231e-11\n",
      "sigma 3.0 BETA 2.7 median lum 1.4678e+43 mean lum 1.0981e+46 UHECR LUM: 1.9220e+35 1.5157e-11\n",
      "sigma 3.0 BETA 2.0 median lum 2.4484e+43 mean lum 1.8317e+46 UHECR LUM: 6.6089e+40 4.8528e-12\n",
      "sigma 3.0 BETA 2.3 median lum 2.4484e+43 mean lum 1.8317e+46 UHECR LUM: 8.1411e+38 2.3738e-11\n",
      "sigma 3.0 BETA 2.7 median lum 2.4484e+43 mean lum 1.8317e+46 UHECR LUM: 3.2061e+35 2.5283e-11\n",
      "sigma 3.0 BETA 2.0 median lum 4.0842e+43 mean lum 3.0554e+46 UHECR LUM: 1.0923e+41 8.0209e-12\n",
      "sigma 3.0 BETA 2.3 median lum 4.0842e+43 mean lum 3.0554e+46 UHECR LUM: 1.3580e+39 3.9596e-11\n",
      "sigma 3.0 BETA 2.7 median lum 4.0842e+43 mean lum 3.0554e+46 UHECR LUM: 5.3481e+35 4.2174e-11\n",
      "sigma 3.0 BETA 2.0 median lum 6.8129e+43 mean lum 5.0968e+46 UHECR LUM: 1.8056e+41 1.3258e-11\n",
      "sigma 3.0 BETA 2.3 median lum 6.8129e+43 mean lum 5.0968e+46 UHECR LUM: 2.2652e+39 6.6050e-11\n",
      "sigma 3.0 BETA 2.7 median lum 6.8129e+43 mean lum 5.0968e+46 UHECR LUM: 8.9211e+35 7.0351e-11\n",
      "sigma 3.0 BETA 2.0 median lum 1.1365e+44 mean lum 8.5019e+46 UHECR LUM: 2.9849e+41 2.1917e-11\n",
      "sigma 3.0 BETA 2.3 median lum 1.1365e+44 mean lum 8.5019e+46 UHECR LUM: 3.7785e+39 1.1018e-10\n",
      "sigma 3.0 BETA 2.7 median lum 1.1365e+44 mean lum 8.5019e+46 UHECR LUM: 1.4881e+36 1.1735e-10\n",
      "sigma 3.0 BETA 2.0 median lum 1.8957e+44 mean lum 1.4182e+47 UHECR LUM: 4.9347e+41 3.6234e-11\n",
      "sigma 3.0 BETA 2.3 median lum 1.8957e+44 mean lum 1.4182e+47 UHECR LUM: 6.3029e+39 1.8378e-10\n",
      "sigma 3.0 BETA 2.7 median lum 1.8957e+44 mean lum 1.4182e+47 UHECR LUM: 2.4823e+36 1.9576e-10\n",
      "sigma 3.0 BETA 2.0 median lum 3.1623e+44 mean lum 2.3657e+47 UHECR LUM: 8.1590e+41 5.9909e-11\n",
      "sigma 3.0 BETA 2.3 median lum 3.1623e+44 mean lum 2.3657e+47 UHECR LUM: 1.0514e+40 3.0656e-10\n"
     ]
    },
    {
     "name": "stderr",
     "output_type": "stream",
     "text": [
      "\n",
      "100%|██████████| 10/10 [18:48<00:00, 112.84s/it][A"
     ]
    },
    {
     "name": "stdout",
     "output_type": "stream",
     "text": [
      "sigma 3.0 BETA 2.7 median lum 3.1623e+44 mean lum 2.3657e+47 UHECR LUM: 4.1408e+36 3.2654e-10\n"
     ]
    },
    {
     "name": "stderr",
     "output_type": "stream",
     "text": [
      "\n"
     ]
    }
   ],
   "source": [
    "for i_sigma, SIGMA in enumerate(tqdm(sigmas)):\n",
    "    \n",
    "    lognorm_params = (SIGMA,0,np.exp(SIGMA))\n",
    "    \n",
    "    # paramaters for lc are lognorm parameters, PSD parameters, tbin and Length (Age is really number of points)\n",
    "    lc = get_lc(lognorm_params, PSD_params, tbin, Length)\n",
    "                      \n",
    "    for i_flux, flux_scale in enumerate(flux_scales):\n",
    "\n",
    "        # normalise the light curve\n",
    "        flux = lc.flux * flux_scale \n",
    "\n",
    "        # loop over spectral indices\n",
    "        for i_beta, BETA in enumerate(betas):\n",
    "\n",
    "            # elemental \"abundances\" - really injection fractions \n",
    "            # this is roughly solar, but should probably be top heavy since it is easier to inject heavy ions, generally\n",
    "            frac_elem = np.array([1.0,0.1,1e-4,3.16e-05])\n",
    "\n",
    "            ncr, escaping, lcr = sim.run_jet_simulation(energies, flux_scale, BETA, lc, tau_loss,\n",
    "                                                        frac_elem=frac_elem, plot_all=False, \n",
    "                                                        sigma=SIGMA, R0=1e9, )\n",
    "\n",
    "            # get approximate gamma ray luminosity around 10 GeV\n",
    "            select = (energies > 1e10) * (energies < 2e10)\n",
    "            my_lgamma = np.fabs(np.trapz(energies[select] * EV2ERGS, energies[select]*ncr[0,-1,:][select]))\n",
    "\n",
    "            # distance to Cen A\n",
    "            distance = 3.7 * PARSEC * 1e6\n",
    "            lgammas[i_sigma,i_flux,i_beta] = my_lgamma * 1e-4 * 4.5e-26 * 0.5 * C / 4.0 / PI / distance / distance\n",
    "            \n",
    "            select = (energies > 6e19)\n",
    "\n",
    "            # store the UHECR luminosity \n",
    "#             lcr = np.fabs(np.trapz(energies[select] * EV2ERGS, energies[select] * escaping[select]))\n",
    "            lcrs[i_sigma,i_flux,i_beta] = lcr\n",
    "            lg = my_lgamma * 1e-4 * 4.5e-26 * 0.5 * C / 4.0 / PI / distance / distance\n",
    "            \n",
    "            print (\"sigma {:.1f} BETA {:.1f} median lum {:8.4e} mean lum {:8.4e} UHECR LUM: {:8.4e} {:8.4e}\"\n",
    "                   .format(SIGMA, BETA, flux_scale, np.mean(flux), lcr, lg))\n",
    "                   \n"
   ]
  },
  {
   "cell_type": "markdown",
   "metadata": {},
   "source": [
    "Now let's make a movie with ffmpeg (pretty hacky this)"
   ]
  },
  {
   "cell_type": "code",
   "execution_count": null,
   "metadata": {},
   "outputs": [],
   "source": [
    "\n",
    "plt.figure(figsize=(15,4))\n",
    "plt.suptitle(\"UHECR Luminosity above 60 EeV\")\n",
    "for i in range(len(betas)):\n",
    "    plt.subplot(1,3,i+1)\n",
    "    plt.contourf(sigmas, np.log10(flux_scales), np.log10(lcrs[:,:,i]))\n",
    "    plt.colorbar()\n",
    "    plt.contour(sigmas, np.log10(flux_scales), np.log10(lcrs[:,:,i]), levels=(39,), colors=(\"C3\",), linewidths=3)\n",
    "    plt.title(r\"$\\beta={:.1f}$\".format(betas[i]), fontsize=16)\n",
    "    plt.xlabel(\"$\\sigma$\", fontsize=16)\n",
    "    if i == 0: \n",
    "        plt.ylabel(\"$\\log Q$\", fontsize=16)\n",
    "    #plt.colorbar()\n",
    "#plt.pcolormesh(sigmas, flux_scales, lcrs[:,:,1])"
   ]
  },
  {
   "cell_type": "code",
   "execution_count": null,
   "metadata": {},
   "outputs": [],
   "source": [
    "plt.figure(figsize=(15,4))\n",
    "plt.suptitle(\"Gamma-ray luminosity at 10 GeV\")\n",
    "for i in range(len(betas)):\n",
    "    plt.subplot(1,3,i+1)\n",
    "    plt.contourf(sigmas, np.log10(flux_scales), np.log10(lgammas[:,:,i]))\n",
    "    plt.colorbar()\n",
    "    plt.contour(sigmas, np.log10(flux_scales), np.log10(lgammas[:,:,i]), colors=(\"C3\",), levels=(-12,), linewidths=3)\n",
    "    plt.title(r\"$\\beta={:.1f}$\".format(betas[i]), fontsize=16)\n",
    "    plt.xlabel(\"$\\sigma$\", fontsize=16)\n",
    "    if i == 0: \n",
    "        plt.ylabel(\"$\\log Q$\", fontsize=16)"
   ]
  },
  {
   "cell_type": "code",
   "execution_count": null,
   "metadata": {},
   "outputs": [],
   "source": []
  }
 ],
 "metadata": {
  "kernelspec": {
   "display_name": "Python 3",
   "language": "python",
   "name": "python3"
  },
  "language_info": {
   "codemirror_mode": {
    "name": "ipython",
    "version": 3
   },
   "file_extension": ".py",
   "mimetype": "text/x-python",
   "name": "python",
   "nbconvert_exporter": "python",
   "pygments_lexer": "ipython3",
   "version": "3.6.9"
  }
 },
 "nbformat": 4,
 "nbformat_minor": 2
}
