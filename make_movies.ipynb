{
 "cells": [
  {
   "cell_type": "code",
   "execution_count": 1,
   "metadata": {},
   "outputs": [],
   "source": [
    "from DELCgen import *\n",
    "import scipy.stats as st\n",
    "import matplotlib.pyplot as plt \n",
    "from constants import *\n",
    "from scipy.interpolate import interp1d\n",
    "import naima\n",
    "import astropy.units as u\n",
    "import subroutines as sub\n",
    "import os"
   ]
  },
  {
   "cell_type": "markdown",
   "metadata": {},
   "source": [
    "This piece of code runs a simple simulation where a CR population is injected and evolved with a variable jet. We need to define the maximum rigidity which is related to the jet power\n",
    "$$\n",
    "R_{\\mathrm{max}} = 10^{19}~V\\left(\\frac{Q_j}{10^{44}~\\mathrm{erg~s}^{-1}}\\right)^{1/2}\n",
    "    \\left(\\frac{\\eta}{0.1}\\right)\n",
    "    \\left(\\frac{u}{0.1c}\\right).\n",
    "$$\n",
    "\n",
    "the \"power threshold\" is the inverse expression with $Q_j$ as the subject. We use an input power spectral density (PSD) and jet power probability distribution function (PDF) to generate a time series for the jet power for a given set of PSD and PDF parameters. To do this, we use the method described by Emmanolopoulous et al. and implemented in python by Connolly. The PSD is implemented as a bending power-law model of the form \n",
    "\n",
    "$$\\mathrm{PSD}(\\nu,\\bar{Q},\\nu_c) = A(\\bar{Q}) \\frac{\\nu^{-\\alpha_{\\mathrm{low}}}}\n",
    "               {1+(\\nu/\\nu_c)^{\\alpha_{\\mathrm{high}}-\\alpha_{\\mathrm{low}}}}$$\n",
    "               \n",
    "               \n",
    "We set $\\alpha_{\\mathrm{low}} = 1$ for a pink noise spectrum, $\\alpha_{\\mathrm{high}} = 10$ so as to suppress high frequency variability, and $\\nu_c = 1$Myr, roughly equal to the light travel time, $\\tau_c=L/c$, along a $L=300$kpc jet. The acceleration time relates to $\\tau_c$ by $\\tau_\\mathrm{acc}/\\tau_c \\approx (Rc)/(uL)$, since the highest energy particles reach Larmor radii comparable to $(u/c)R$ (Hillas criterion). The longest CR acceleration time is therefore shorter than the light travel time along the jet for any fast, long and thin jet ($u/c>R/L$). "
   ]
  },
  {
   "cell_type": "code",
   "execution_count": 2,
   "metadata": {},
   "outputs": [],
   "source": [
    "def power_threshold(rigidity, v_over_c=0.1, eta=0.1):\n",
    "    power = (0.1 / eta) * (rigidity / 1e19)**2 * (0.1/v_over_c) * 1e44\n",
    "    return power \n",
    "\n",
    "def max_energy(power, v_over_c=0.1, eta=0.1):\n",
    "    return 1e19*np.sqrt( (power/1e44) * (v_over_c/0.1))\n",
    "\n",
    "def get_lc(lognorm_params, PSD_params, tbin, Age):\n",
    "    # Simulation params\n",
    "    # let's do everything in units of kyr\n",
    "    # run for 100 Myr (1e5 kyr) in bins of 0.1 Myr\n",
    "    #lognorm_params = (1.5,0,np.exp(1.5))\n",
    "    RedNoiseL,RandomSeed,aliasTbin = 100,12,100\n",
    "    N = Age / tbin\n",
    "\n",
    "    lc = Simulate_DE_Lightcurve(BendingPL, PSD_params,st.lognorm,lognorm_params,\n",
    "                                    RedNoiseL=RedNoiseL,aliasTbin=aliasTbin,randomSeed=RandomSeed,LClength=Age, tbin=tbin)\n",
    "\n",
    "    return (lc)"
   ]
  },
  {
   "cell_type": "markdown",
   "metadata": {},
   "source": [
    "Now we've set up the basic functions. Let's initialise our parameters for the variable jet history and initialise the tau_loss dictionary which stores the loss times for the different species (calculated using CRPropa).  "
   ]
  },
  {
   "cell_type": "code",
   "execution_count": 3,
   "metadata": {},
   "outputs": [],
   "source": [
    "# set up light curve. pl_index of 1 means red noise.\n",
    "pl_index = 1\n",
    "\n",
    "# bend the power law at 1 Myr (1e-3 kyr^-1) and steeply decay it beyond that with index 10. \n",
    "# A,v_bend,a_low,a_high,c = 1, 1e-3, pl_index, 10, 1\n",
    "PSD_params = (1, 1e-3, pl_index, 10, 1)\n",
    "lognorm_params = (1.5,0,np.exp(1.5))\n",
    "tbin = 100    # 100 kyr \n",
    "\n",
    "# Age of 1000 means 100 Myr\n",
    "# paramaters for lc are lognorm parameters, PSD parameters, tbin and Age (Age is really number of points)\n",
    "lc = get_lc(lognorm_params, PSD_params, tbin, 500)\n",
    "\n",
    "# time is in kyr, so convert to Myr\n",
    "times = np.arange(0,1000.0*tbin,tbin) "
   ]
  },
  {
   "cell_type": "markdown",
   "metadata": {},
   "source": [
    "Set up arrays to loop over. flux_scales contains the normalisations of our jet power $(\\bar{Q})$.\n",
    "This is actually the median of the distribution, or the mean in log space.\n",
    "betas is the spectral index of the injected spectrum ($\\beta$)."
   ]
  },
  {
   "cell_type": "code",
   "execution_count": 4,
   "metadata": {},
   "outputs": [],
   "source": [
    "# flux_scales contains the normalisations of our jet power \n",
    "# actually the median of the distribution, or the mean in log space.\n",
    "# betas is the spectral index of the injected spectrum \n",
    "#flux_scales = np.logspace(43,45,num=10)\n",
    "#betas = np.arange(2,3,0.1)\n",
    "betas = [2,2.3,2.7]\n",
    "flux_scales = [1e43,1e44]"
   ]
  },
  {
   "cell_type": "code",
   "execution_count": 5,
   "metadata": {},
   "outputs": [
    {
     "name": "stdout",
     "output_type": "stream",
     "text": [
      "BETA 2.0 median lum 1.0000e+43 mean lum 1.3231e+44\n",
      "BETA 2.3 median lum 1.0000e+43 mean lum 1.3231e+44\n",
      "BETA 2.7 median lum 1.0000e+43 mean lum 1.3231e+44\n",
      "BETA 2.0 median lum 1.0000e+44 mean lum 1.3231e+45\n",
      "BETA 2.3 median lum 1.0000e+44 mean lum 1.3231e+45\n",
      "BETA 2.7 median lum 1.0000e+44 mean lum 1.3231e+45\n"
     ]
    }
   ],
   "source": [
    "energies = np.logspace(6,20.5,num=3000)\n",
    "for i_flux, flux_scale in enumerate(flux_scales):\n",
    "\n",
    "    # normalise the light curve\n",
    "    flux = lc.flux * flux_scale \n",
    "    \n",
    "    # loop over spectral indices\n",
    "    for i_beta, BETA in enumerate(betas):\n",
    "        \n",
    "        # load the arrays calculated\n",
    "        escaping_time = np.load(\"array_saves/escaping_beta{:.1f}q{:.1f}.npy\".format(BETA, np.log10(flux_scale)))\n",
    "        ncr_time = np.load(\"array_saves/ncr_beta{:.1f}q{:.1f}.npy\".format(BETA, np.log10(flux_scale)))\n",
    "    \n",
    "        # elemental \"abundances\" - really injection fractions \n",
    "        # this is roughly solar, but should probably be top heavy since it is easier to inject heavy ions, generally\n",
    "        frac_elem = np.array([1.0,0.1,1e-4,3.16e-05])\n",
    "        \n",
    "        # normalise! \n",
    "        frac_elem /= np.sum(frac_elem)\n",
    "        \n",
    "        # get the time step - IMPROVE \n",
    "        delta_t = tbin * 1000.0 * YR\n",
    "        \n",
    "        # charges \n",
    "        z_elem = np.array([1,2,7,26])\n",
    "    \n",
    "        lgamma = np.zeros_like(flux)\n",
    "        \n",
    "        movie_counter = 0\n",
    "        DELTA = 3\n",
    "        \n",
    "        i = len(flux) -1 \n",
    "        \n",
    "        #for i in range(0,len(flux), DELTA):\n",
    "        # get the maximum rigidity from the power requirement\n",
    "        Rmax = max_energy(flux[i], v_over_c=0.5)\n",
    "\n",
    "        # this plots the lightcurve \n",
    "        fig, ax2, ax3 = sub.init_lc_plot(lc.time[:i+1] / 1000.0, flux[:i+1])\n",
    "\n",
    "\n",
    "        for j, frac in enumerate(frac_elem):\n",
    "\n",
    "            rigidities = energies / z_elem[j]\n",
    "\n",
    "            sub.plot_spectra(fig, ax2, ax3, rigidities * z_elem[j], ncr_time[j,i,:], escaping_time[j,i,:]*delta_t, j)\n",
    "\n",
    "\n",
    "        #os.system(\"mkdir spectra/beta{:.1f}q{:.1f}\".format(BETA, np.log10(flux_scale)))\n",
    "        plt.savefig(\"spec_beta{:.1f}q{:.1f}.png\".format(BETA, np.log10(flux_scale)), dpi=100)\n",
    "        plt.close(\"all\")\n",
    "        movie_counter += 1\n",
    "                \n",
    "        print (\"BETA {:.1f} median lum {:8.4e} mean lum {:8.4e}\".format(BETA, flux_scale, np.mean(flux)))\n"
   ]
  },
  {
   "cell_type": "markdown",
   "metadata": {},
   "source": [
    "Let's loop over the flux scales and the spectral indices. The method is as follows. For each value of $\\bar{Q}$ and $\\beta$, we evolve a CR distribution for each ionic species numerically using the following equation,\n",
    "\n",
    "$$\n",
    "    \\frac{dn_i(E)}{dt} = S(E/Z_i, f_i, t) - \\frac{n(E)}{\\tau_\\mathrm{esc} (E/Z_i)} - \\frac{n(E)}{\\tau_\\mathrm{loss} (E, Z_i)}.\n",
    "$$\n",
    "\n",
    "The total differential CR spectrum is then just $n(E,t)=\\sum_i n_i(E,t)f_i$. We follow, e.g., Eichmann et al. 2018 in using a power-law for the injection term $S({\\cal R}_i, f_i, t)$ with a sharp cutoff, given by\n",
    "\n",
    "$$\n",
    "    S(E/Z_i, f_i, t) = \n",
    "    f_i \\eta Q_j(t)~\\nu_i\n",
    "    \\left(\\frac{{\\cal R}}{{\\cal R}_0}\\right)^{-\\beta}~f_{\\mathrm{cut}}(R_{\\mathrm{max}}).\n",
    "    % f_\\mathrm{cut}\n",
    "$$\n",
    "\n",
    "where $\\nu_i$ is the normalisation of the distribution and is given by $\\nu_i=1.0/[\\ln({\\cal R}_\\mathrm{max}(t)/{\\cal R}_0]$ for $\\beta=2$ and $\\nu_i=(2-\\beta)/[({\\cal R}_\\mathrm{max}/{\\cal R}_0)^{(2-\\beta)}-1]$ for $\\beta > 2$.  We set ${\\cal R}_\\mathrm{max}$ according to the maximum rigidity condition, ${\\cal R}_0=1\\mathrm{GV}$. "
   ]
  },
  {
   "cell_type": "code",
   "execution_count": 7,
   "metadata": {},
   "outputs": [
    {
     "name": "stdout",
     "output_type": "stream",
     "text": [
      "BETA 2.0 median lum 1.0000e+43 mean lum 1.3231e+44\n",
      "BETA 2.3 median lum 1.0000e+43 mean lum 1.3231e+44\n",
      "BETA 2.7 median lum 1.0000e+43 mean lum 1.3231e+44\n",
      "BETA 2.0 median lum 1.0000e+44 mean lum 1.3231e+45\n",
      "BETA 2.3 median lum 1.0000e+44 mean lum 1.3231e+45\n",
      "BETA 2.7 median lum 1.0000e+44 mean lum 1.3231e+45\n"
     ]
    }
   ],
   "source": [
    "energies = np.logspace(6,20.5,num=3000)\n",
    "for i_flux, flux_scale in enumerate(flux_scales):\n",
    "\n",
    "    # normalise the light curve\n",
    "    flux = lc.flux * flux_scale \n",
    "    \n",
    "    # loop over spectral indices\n",
    "    for i_beta, BETA in enumerate(betas):\n",
    "        \n",
    "        # load the arrays calculated\n",
    "        escaping_time = np.load(\"array_saves/escaping_beta{:.1f}q{:.1f}.npy\".format(BETA, np.log10(flux_scale)))\n",
    "        ncr_time = np.load(\"array_saves/ncr_beta{:.1f}q{:.1f}.npy\".format(BETA, np.log10(flux_scale)))\n",
    "    \n",
    "        # elemental \"abundances\" - really injection fractions \n",
    "        # this is roughly solar, but should probably be top heavy since it is easier to inject heavy ions, generally\n",
    "        frac_elem = np.array([1.0,0.1,1e-4,3.16e-05])\n",
    "        \n",
    "        # normalise! \n",
    "        frac_elem /= np.sum(frac_elem)\n",
    "        \n",
    "        # get the time step - IMPROVE \n",
    "        delta_t = tbin * 1000.0 * YR\n",
    "        \n",
    "        # charges \n",
    "        z_elem = np.array([1,2,7,26])\n",
    "    \n",
    "        lgamma = np.zeros_like(flux)\n",
    "        \n",
    "        movie_counter = 0\n",
    "        DELTA = 2\n",
    "        \n",
    "        for i in range(1,len(flux), DELTA):\n",
    "            # get the maximum rigidity from the power requirement\n",
    "            Rmax = max_energy(flux[i], v_over_c=0.5)\n",
    "            \n",
    "            # this plots the lightcurve \n",
    "            fig, ax2, ax3 = sub.init_lc_plot(lc.time[:i+1] / 1000.0, flux[:i+1])\n",
    "\n",
    "\n",
    "            for j, frac in enumerate(frac_elem):\n",
    "\n",
    "                rigidities = energies / z_elem[j]\n",
    "                \n",
    "                sub.plot_spectra(fig, ax2, ax3, rigidities * z_elem[j], ncr_time[j,i,:], escaping_time[j,i,:]*delta_t, j)\n",
    "    \n",
    "            \n",
    "            os.system(\"mkdir spectra/beta{:.1f}q{:.1f}\".format(BETA, np.log10(flux_scale)))\n",
    "            plt.savefig(\"spectra/beta{:.1f}q{:.1f}/spectra{:03d}.png\".format(BETA, np.log10(flux_scale), movie_counter), dpi=100)\n",
    "            plt.close(\"all\")\n",
    "            movie_counter += 1\n",
    "                \n",
    "        \n",
    "        print (\"BETA {:.1f} median lum {:8.4e} mean lum {:8.4e}\".format(BETA, flux_scale, np.mean(flux)))\n"
   ]
  },
  {
   "cell_type": "markdown",
   "metadata": {},
   "source": [
    "Now let's make a movie with ffmpeg (pretty hacky this)"
   ]
  },
  {
   "cell_type": "code",
   "execution_count": 8,
   "metadata": {},
   "outputs": [
    {
     "name": "stdout",
     "output_type": "stream",
     "text": [
      "1e+43 2\n",
      "1e+43 2.3\n",
      "1e+43 2.7\n",
      "1e+44 2\n",
      "1e+44 2.3\n",
      "1e+44 2.7\n"
     ]
    },
    {
     "data": {
      "text/html": [
       "<video src=\"movies/movie_beta2.7q44.0.mp4\" controls  >\n",
       "      Your browser does not support the <code>video</code> element.\n",
       "    </video>"
      ],
      "text/plain": [
       "<IPython.core.display.Video object>"
      ]
     },
     "execution_count": 8,
     "metadata": {},
     "output_type": "execute_result"
    }
   ],
   "source": [
    "import os\n",
    "import time\n",
    "import io\n",
    "import base64\n",
    "from IPython.display import HTML\n",
    "\n",
    "for i_flux, flux_scale in enumerate(flux_scales):\n",
    "    for i_beta, BETA in enumerate(betas):\n",
    "        print (flux_scale, BETA)\n",
    "        fname = \"beta{:.1f}q{:.1f}\".format(BETA, np.log10(flux_scale))\n",
    "        cmd = \"ffmpeg -y -i spectra/{}/spectra%3d.png -r 6 movies/movie_{}.mp4\".format(fname,fname)\n",
    "        os.system(cmd)\n",
    "        time.sleep(3)\n",
    "        \n",
    "# open the last movie?  \n",
    "moviename = \"movies/movie_{}.mp4\".format(fname)\n",
    "video = io.open(moviename, 'r+b').read()\n",
    "encoded = base64.b64encode(video)\n",
    "HTML(data='''<video alt=\"test\" controls>\n",
    "                <source src=\"data:video/mp4;base64,{0}\" type=\"video/mp4\" />\n",
    "             </video>'''.format(encoded.decode('ascii')))\n",
    "\n",
    "from IPython.display import Video\n",
    "\n",
    "Video(moviename )"
   ]
  },
  {
   "cell_type": "code",
   "execution_count": null,
   "metadata": {},
   "outputs": [],
   "source": []
  }
 ],
 "metadata": {
  "kernelspec": {
   "display_name": "Python 3",
   "language": "python",
   "name": "python3"
  },
  "language_info": {
   "codemirror_mode": {
    "name": "ipython",
    "version": 3
   },
   "file_extension": ".py",
   "mimetype": "text/x-python",
   "name": "python",
   "nbconvert_exporter": "python",
   "pygments_lexer": "ipython3",
   "version": "3.6.9"
  }
 },
 "nbformat": 4,
 "nbformat_minor": 2
}
